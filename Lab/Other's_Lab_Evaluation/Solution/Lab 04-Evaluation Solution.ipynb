{
 "cells": [
  {
   "cell_type": "code",
   "execution_count": 1,
   "id": "50d6b736",
   "metadata": {},
   "outputs": [],
   "source": [
    "import numpy as np\n",
    "import matplotlib.pyplot as plt\n",
    "from itertools import combinations\n",
    "from numpy.polynomial import Polynomial"
   ]
  },
  {
   "cell_type": "code",
   "execution_count": 2,
   "id": "ef345d46",
   "metadata": {},
   "outputs": [],
   "source": [
    "# basic rule for calculating the difference, implanted in the lambda function.\n",
    "# You may use it if you wish\n",
    "difference = lambda y2, y1, x2, x1: (y2-y1)/(x2-x1)\n",
    "\n",
    "def calc_div_diff(x,y):\n",
    "    assert(len(x)==len(y))\n",
    "    #write this function to calculate all the divided differences in the list 'b'\n",
    "    n = len(x)\n",
    "    b = np.zeros((n,n))\n",
    "    b[:,0] = y\n",
    "    #initializing\n",
    "    #----------------------------------------------\n",
    "    # YOUR CODE HERE\n",
    "    #raise NotImplementedError()\n",
    "    for col in range(1, n):\n",
    "        for row in range(0,n-col):\n",
    "            num = b[row+1, col-1]-b[row, col-1]\n",
    "            den = x[row+col]-x[row]\n",
    "            b[row][col] = num / den\n",
    "    #----------------------------------------------\n",
    "    return b[0]"
   ]
  },
  {
   "cell_type": "code",
   "execution_count": 3,
   "id": "2795c778",
   "metadata": {},
   "outputs": [],
   "source": [
    "class Newtons_Divided_Differences:\n",
    "\n",
    "    def __init__(self, differences, data_x):\n",
    "        self.differences = differences\n",
    "        self.data_x = data_x\n",
    "\n",
    "    def n(self, k, x):\n",
    "\n",
    "        result = 1\n",
    "        #----------------------------------------------\n",
    "        # YOUR CODE HERE\n",
    "        result = 1\n",
    "        for i in range(0, k):\n",
    "            result *= x - self.data_x[i]\n",
    "        #raise NotImplementedError()\n",
    "        #----------------------------------------------\n",
    "\n",
    "        return result\n",
    "\n",
    "    def __call__(self, x):\n",
    "        '''\n",
    "        this function is for calculating y from given x using all the difference coefficients\n",
    "        x can be a single value or a numpy\n",
    "        the formula being used:\n",
    "        f(x) = f [x0] + (x-x0) f[x0,x1] + (x-x0) (x-x1) f[x0,x1,x2] + . . . + (x-x0) (x-x1) . . . (x-xk-1) f[x0, x1, . . ., xk]\n",
    "\n",
    "        work on this after implementing 'calc_div_diff'. Then you should have\n",
    "        f[x0], f[x0,x1]. . . . . ., f[x0, x1, . . ., xk] stored in self.differences\n",
    "\n",
    "        'res' variable must return all the results (corresponding y for x)\n",
    "        '''\n",
    "\n",
    "        res = np.zeros(len(x)) #Initialization to avoid runtime error. You can change this line if you wish\n",
    "\n",
    "        #----------------------------------------------\n",
    "        # YOUR CODE HERE\n",
    "        #raise NotImplementedError()\n",
    "        for k in range(len(self.data_x)):\n",
    "            term = self.differences[k] * self.n(k, x)\n",
    "            res += term\n",
    "        #----------------------------------------------\n",
    "\n",
    "        return res\n"
   ]
  },
  {
   "cell_type": "code",
   "execution_count": 4,
   "id": "b1e95bde",
   "metadata": {},
   "outputs": [
    {
     "name": "stdout",
     "output_type": "stream",
     "text": [
      "p([0.25]) = 1.1634920731214105\n"
     ]
    },
    {
     "data": {
      "image/png": "[encoded data removed]",
      "text/plain": [
       "<Figure size 640x480 with 1 Axes>"
      ]
     },
     "metadata": {},
     "output_type": "display_data"
    }
   ],
   "source": [
    "\n",
    "data_x = np.array([-1.5, 0.5, 1.67])\n",
    "data_y = np.array([3.75, 1.22, 2.9])\n",
    "\n",
    "differences = calc_div_diff(list(data_x), list(data_y))\n",
    "\n",
    "\n",
    "p = Newtons_Divided_Differences(list(differences), data_x)\n",
    "\n",
    "x_target = [0.25]\n",
    "y_target = p(x_target)\n",
    "print(f\"p({x_target}) = \", end = \"\")\n",
    "print(*y_target)\n",
    "\n",
    "plot_x = np.linspace(-2, 2, 50)\n",
    "plot_y = p(plot_x)\n",
    "\n",
    "m = x_target[0]\n",
    "n = y_target[0]\n",
    "\n",
    "\n",
    "\n",
    "plt.plot(plot_x, plot_y)\n",
    "plt.plot(data_x, data_y, 'ro')\n",
    "plt.plot(m,n, 'go')\n",
    "plt.show()\n"
   ]
  }
 ],
 "metadata": {
  "kernelspec": {
   "display_name": "Python 3",
   "language": "python",
   "name": "python3"
  },
  "language_info": {
   "codemirror_mode": {
    "name": "ipython",
    "version": 3
   },
   "file_extension": ".py",
   "mimetype": "text/x-python",
   "name": "python",
   "nbconvert_exporter": "python",
   "pygments_lexer": "ipython3",
   "version": "3.13.5"
  }
 },
 "nbformat": 4,
 "nbformat_minor": 5
}
