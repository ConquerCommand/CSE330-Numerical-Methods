{
 "cells": [
  {
   "cell_type": "code",
   "execution_count": 1,
   "id": "eb4df911",
   "metadata": {},
   "outputs": [
    {
     "name": "stdout",
     "output_type": "stream",
     "text": [
      "Dh2 at x=1, h=0.4 is: 61.75\n"
     ]
    }
   ],
   "source": [
    "import numpy as np\n",
    "\n",
    "# Define the polynomial f(x)\n",
    "coeffs = [5, -1, 7, 3.75, -2, 1.5, 15]   # coefficients for x^6 ... constant\n",
    "f = np.polynomial.Polynomial(coeffs[::-1])  # numpy expects [c0, c1, ...]\n",
    "\n",
    "# Central difference approximation\n",
    "def central_diff(f, h, x):\n",
    "    return (f(x + h) - f(x - h)) / (2*h)\n",
    "\n",
    "# Richardson extrapolation (1st degree)\n",
    "def R1(f, h, x):\n",
    "    return (4*central_diff(f, h/2, x) - central_diff(f, h, x)) / 3\n",
    "\n",
    "# Richardson extrapolation (2nd degree)\n",
    "def Dh2(f, h, x):\n",
    "    R1_h   = R1(f, h, x)\n",
    "    R1_h2  = R1(f, h/2, x)\n",
    "    return (16*R1_h2 - R1_h) / 15\n",
    "\n",
    "# Parameters\n",
    "x0 = 1\n",
    "h = 0.4\n",
    "\n",
    "# Compute Dh2\n",
    "Dh2_val = Dh2(f, h, x0)\n",
    "print(f\"Dh2 at x={x0}, h={h} is: {Dh2_val:.2f}\")\n"
   ]
  }
 ],
 "metadata": {
  "kernelspec": {
   "display_name": "Python 3",
   "language": "python",
   "name": "python3"
  },
  "language_info": {
   "codemirror_mode": {
    "name": "ipython",
    "version": 3
   },
   "file_extension": ".py",
   "mimetype": "text/x-python",
   "name": "python",
   "nbconvert_exporter": "python",
   "pygments_lexer": "ipython3",
   "version": "3.13.5"
  }
 },
 "nbformat": 4,
 "nbformat_minor": 5
}
